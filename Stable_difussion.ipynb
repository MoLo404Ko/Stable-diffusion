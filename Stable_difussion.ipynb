{
  "cells": [
    {
      "cell_type": "markdown",
      "metadata": {
        "id": "view-in-github",
        "colab_type": "text"
      },
      "source": [
        "<a href=\"https://colab.research.google.com/github/MoLo404Ko/Stable-diffusion/blob/main/Stable_difussion.ipynb\" target=\"_parent\"><img src=\"https://colab.research.google.com/assets/colab-badge.svg\" alt=\"Open In Colab\"/></a>"
      ]
    },
    {
      "cell_type": "code",
      "execution_count": null,
      "metadata": {
        "id": "Vfwhjyh3xV4M"
      },
      "outputs": [],
      "source": [
        "!pip install --upgrade keras-cv"
      ]
    },
    {
      "cell_type": "code",
      "execution_count": null,
      "metadata": {
        "id": "wOzuzb-XxkAz"
      },
      "outputs": [],
      "source": [
        "import time\n",
        "import keras_cv\n",
        "from tensorflow import keras\n",
        "import matplotlib.pyplot as plt"
      ]
    },
    {
      "cell_type": "code",
      "execution_count": null,
      "metadata": {
        "id": "uArIHUR2xup4"
      },
      "outputs": [],
      "source": [
        "model = keras_cv.models.StableDiffusion(img_width=512, img_height=512)"
      ]
    },
    {
      "cell_type": "code",
      "execution_count": null,
      "metadata": {
        "colab": {
          "background_save": true
        },
        "id": "oHp8Hxe3xx-N"
      },
      "outputs": [],
      "source": [
        "keras.mixed_precision.set_global_policy(\"mixed_float16\")\n",
        "model = keras_cv.models.StableDiffusion(jit_compile=True)\n",
        "images = model.text_to_image(\"happy pig\", batch_size=3)\n",
        "\n",
        "def plot_images(images):\n",
        "    plt.figure(figsize=(20, 20))\n",
        "    for i in range(len(images)):\n",
        "        ax = plt.subplot(1, len(images), i + 1)\n",
        "        plt.imshow(images[i])\n",
        "        plt.axis(\"off\")\n",
        "\n",
        "\n",
        "plot_images(images)"
      ]
    }
  ],
  "metadata": {
    "colab": {
      "provenance": [],
      "authorship_tag": "ABX9TyMRcWV3v4DwMyhaY8BGXEoO",
      "include_colab_link": true
    },
    "kernelspec": {
      "display_name": "Python 3",
      "name": "python3"
    },
    "language_info": {
      "name": "python"
    }
  },
  "nbformat": 4,
  "nbformat_minor": 0
}